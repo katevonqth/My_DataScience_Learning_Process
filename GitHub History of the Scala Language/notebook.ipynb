{
 "cells": [
  {
   "cell_type": "markdown",
   "id": "35ba336b",
   "metadata": {
    "dc": {
     "key": "5"
    },
    "deletable": false,
    "editable": false,
    "run_control": {
     "frozen": true
    },
    "tags": [
     "context"
    ]
   },
   "source": [
    "<p><img src=\"data:image/png;base64,iVBORw0KGgoAAAANSUhEUgAAAXEAAACICAMAAAAmsyvzAAABFFBMVEX///8jHyDeNCM4DQkAAADeMiDdLRnncmf98/HfOSkgHB0YExRxcHAMAAVubG0cFxjT0tNBPj+lo6T29vYvCwgRCgxWU1QzDAgKAADv7+8ZFBXlNiQsCgeDgYLJyMjr6+tdW1zcHwAoJCXdJQyUkpPc3Ny1tLQ5NjcxLS9IRUaHhYaop6h7eXrRMSGwKRxjFxBKEQy/vr6FHxUlCQb64+H1zMrvrKdPTE13HBNADwpXFA6kJhq7LB4xAAA0AAArAADiUEP1zszpgXjjXlPgRTfrjITtnJWYJBjvqqT76+nxt7PndWviWlBhHBWKd3WmmJdEIR9eQ0FuVVNKLCl9HhRXHBfRqKVpAABoFQwdAABlUE/Hi4cySAbrAAAQDklEQVR4nO2d+WPaOBbHAxGhkQGDHRMbgiHE5s5BLnJ1mqRJ02Y6ne1Mdqez+///HyuZy5YetkwCaTv6/pggIX30rOO9J7OyIiUlJSUlJSUlJSX1E+n402u34B+mT9dvXrsJ/yw9plKS+PL05vF6Z21dEl+Wbu6TO2vJlCS+FL05uV/fWUslk5L4MnT8mF7f2aG4JfHF6/jk/jo1tG5JfNH6dHP6611qey01xS2JL0rHNx9vr8lMwtCWxF9eb45vHm/f36VA2JL4C4qQPjm9f399t7a9szYLtiT+XL35dOyBviWkkyPUIawl8Xl0c/N4enr64f4+nf78+Y5w3tneESMtic+n9DYhTBmveZiFOUvi8yq9Fp/xnMT1qid9sR367rUU4q6tZWrtQqtO1CwMaj0tX11G52ZJn6VlfPniieedQR2ZiqrikdSSYqL6oGO/mrV3mgVIzcoyvnzBxK3uwDBUnOCEVQMVKu4yusirZ2BIRm4ZX75Y4t2mqfK0J9QNJfcqzHsK2B4ls4wvXyTxfBGF8PaYK0rnFeaWn5V4Q4U7FmSOBstfRH9S4poBTN9QP1tLR/5zEu+aYsATiVLTWkZPffopidtZUeCJhLGUnvr0MxLXmxFrZkAov4yuTvWDE1+7A6rtGDGAJ4ylHD2m+rGJ7yRP+FqrWHxOIcLN5W4Rf2Ti5fXbY6BWJxsHOJlWlkwcKVSsVXz/xMvl3cvfGlCthTiz+PKJa5keVYFB/p0TJ7j3zs63No++8JW60FOLVcUgUqDBWDLxkTJMM79j4uVycvfy2/nWxirR0e9cpQ2T551NFHsOUW6g8Eej1yGe+zGIU9p7TxcbW5urQ/3yL67SCmfjWHUmJ0vXwaydS+KzYe9ePl1sbm2McVOdc/vxIksUY9v/f7fFWLkkzirlwd47/HawFaRN9O6BI84CTRhO8AN5JImHs756eNoHYBNtrD7wZ06OuMkeKpkDUihx3bJofNSyxIdFrEhs4nO0hNdM4gR1itr1AzHsjSMI9urq5sbq025ZgHiJDTzUg5+YSdzKO5liS0VEGBdqPacf1VvdbXRygxamRUpqgSzX+VmOsjjErbxWqRWwVy2ut3OdxrwhcpY4Ae2R9lBfnB9Rw4ZgU9wbB4e7ZcivwhHnHCdCxK1GBiOynRweYGmEVDEQCguQWo1eAXFF6rk+WEKYuOvUFJRVSnhcrVqiDXHmCmAR4ilKmXKmoK8uHw7P9g82Q1CPcT9dJctJ0JNV505zPeYTiWji1U4dccdCIhogdSCz1e1MCSyBFdTUgG8QI17VBggM1ZKG5OZwwd3uXF1dXRLMT2f7F+ebR2T+CCM9pL21enFIcA/TiQDi3JETq0zTVCMgnrjVAbbtk+rMhMOW0LttEPeoBGr2ub6LEHd7RkioVkG92L59q7KV/ZvYM+UcDnpC++DscrdcnmRvAcRzJc4e6sEnMM+IraFRD48gYVQIlmm0ImKqKnLYL4kmXu2hiEiW0Ypv5tXu11/evRWATbbhqxdPl1d0X+6f+XniDu+rVVXQAQNL76FI36Oa9VWYH0QXSKAc81xEEdcdI9rprKr8wxMtt/vH6rt3v4RZ9ubqwbeHK2Lb5SQjgLjNn/KJVRZt6LsBVQsirkeMJsgbiHuoQOQM0QjielFgGGkOiGi/grLsL1956pse6/P9w0sPNpgHChDXuaWTqoQGDZEdVb4uxI8sDuOZyp09gQeEtDjEV3piYRV1/tB4tf/lT0L97ZA0RX3x7XDPYw3DnkWc68u4bajeiZz23ISoq3eaQ1URY4OzgW+PIu5COxSoHbV5iVNZ9u9fzw9++3Z4SVCnwlnPJp6fNS1gsrXTQrexVlPMwqnMsXFVBY28VIxDXDh2iOaZyr0LP48fP9D7EevD/blgLjkYWa7NTg5Ss6jYnb2nqsWIkJqTWULQyBPIP+dGEq+CsyPQpeKKuG6vP39eTyZ3tqmGufsxs/ZB4uEzq2qizIzlxkEh5VhNEVVF05H8yZzRu0PR6GGcZIT0Tmq+qxHhxFe0CHLkGNgFiuUFyXGIAhtSrBomAg+KGPumNIH9uN/IMaZOhixkS3GSERaWk5WJMg+MDI0rVQTjdYppZrOEIEd8arHWJHtAzSr1WqfR7zs1lZ9rkG8XL3DmnBg5aYNayDj9frfS4huCC+JurcXlHeaATTnTThMzS04feDIUo9Vr9G2732kbLCLfHDFkgw2j3Z2YseVwj4yfqgBxa2jkqokz/cnaky9wI4nEN4gLzK3NRB8gMKoFmsoFj8io1KZzpJsLPjh+4haZQ7ChMJcA+iwbdRCL+IpmUt5t5iBRZPdTSPxEvcj8cS0sXX/cS/+Jjd9U4lLwKQhGUAProGMqBuff4uL12HdcESGutwhvbpWvss8iG+QK0ULvSOQL0Qm2GE1XUO6QNz1WjrsaMK4AcV3NAY+2zQ6iMq1RyFurZSHzHagCRWEt+B6QhqM3H5Ozt86m7CRMtrdWIL0uQHwFnEq5cyOKSVwHjw7s2agkfoVo0XfddMeIzGseT4JsvDlRqrHVWeps4qB44tNl4RmRZdY7qhaFNyuLv12oa4kI1zUe2R3n5OW9chYKaCbxar7f6Gqa1nVCAoDxI8uu3WhotNoa06PvijhRvxju2B+5O2rMDgA3+aqCgQzIQ5Pv5precJA9fDbL7+PmI17tO0VjUmuWNaHvjThpsKOikHtY3ryit9nlKPb9SqtRJExCPQzzEM87dfgI+0rEk2L38vM9NDNw4O2Sq2wKQJY/k4bKrqHo/Whs4paDo0JvSya+nRZG0q/NajvlwC9ysYIrdksoEhSTuF5BIjealkg8tX0bB0vVyYJbdKNDHgJ22jFieOSsmlCILC7xhkCkc6nEy+U96IpEqDTWO+K1eABknccgbpsCt3XjExdwVCyTeLm8+3B+9Ce3X6gFd3Bc1oKeA/xVWYsnbgrPKl1RMrGI623h6MjiiafK5auHi6ON1dW3b1nkTEeA9Q8IO6AqP6sIB7MaMcIYMYgPxMNRiyWeohdSns63Rjn7b/8IJw54wYHIMwHBrZyi7iEXXI69qATijF+ceAXy8GMlS6vlXJKLIk5Dzbt7hxcbwwspoxSL8MQbiDjne6M7cm53KBo+BMIYJYSKTrdv23nucoAocZt/cDDNGtUatm07TNFFEKewk1eXZwcbTGbz5r+Z/bgA8RXQZ8WegHBdKKmPD2NgVJtMSM15iXM+8IRhTLJp+0y45WWJezkUu1eXTwebLO1VmrJ/NQdxLvRA52xurjGhUCgn1jmQUJXpksslK4kS59xqCZSZUu0uiPiY9eH+OQSb8j4622VP+UxHFCjqCmaYa+zECTlWxpqs11wYH2Pfo5FnZ1xR4lw+Bj0yTIsyo/xc4sOE8t2rvYeni9UZrOl8srVxtlvm/CpMR3Cd9zcBBlSlKyD710AvA3Imfm5uo5L1b3G4JJ8Q4v6IHPcUqgXfP3V2lOcjPsrcp6QvD88uKNFZrD3cR/sPu2XAk8V2pDRgp2OdM3GcoC1mJ3KCHI4f5ttZY3wJgPXx4pL/m7gcHx9xdjRwa1ow3MnDPY2xiI8w7155oPcPzodWHZpMvrG1RXB7VySiiSeUVpCb3eLzy71tCZ+Qg7PAVJ6vGSrZN4yMnH2tQWAq4nO1fMQ5f7wvIs87eXxPjsV5KmIQ/89ff327uDg/91KWo+9HDI37/OlyhBsizr/ZAWdblb5LLV2v5rU24Boabr1d/pUV2KwFJyW9Xxy6CcZZOewA4/r0w31+S+2LunGW6rs8wx+AfVbDb2Pi5MG5ndW/30VRHsPeILTPqHH7ssg54lxHKAbDVOvNZrOVMDhvvsdhuLuA8ocVpdYf2Z7uNnItc9RdXKqCxBPmhKkNeMp95PijqtHLW3q1ChH3RQAzfCvjpAhRq/ly/ndIvv4E9ubFIbHtFJOzzxHnwuejRg0F/681bDBg5BStmWgWa7Viu1XyRxtGyyo3cUzsrQudRXHBdono97n8GcdQ6q0SfXhcbgEYLylWDUp9Mjq0VvHLb7r9+9ejrbcQdZpKfnTkJe0nk/wNCYC4Lph27VN2fJ534EQujFW1pDL1YuwZOX8Fxhjk9ZWqPYAd26pCxt17pnToAxh705XFnpzIY0pfLeA6CdhLaagYKzVh4t7YNb78ebQ1tXUva/9o42D/8OFqF4YNE5+Vrz9bWBnvZvS2ePb4aJyA07hqtAp1Pjtw8nUj4vzZydNwgWBjxxR5otDEs+MTsYnT/lqNzn/fHlHSW/R+xMPersc6NPWWJ56PzDhk5EsSEr2X4HWxRQeqWgItNbyaIXFoxRkTh7L1Z86KI/HZHtF68+nm5H8Pl4S0h3qWXYcTF71AM2lo21e2Ie7qTpiekcOWGq4hcd6hRjUkHttsiFQR4jcnJyc3jx9P7+9v0++vvZ81WIu+iRJB3GrFeWsTVgPZVJo48qGRR3jHwdpGeyNw/httO9lEN4FahYinx5cj5v5ZA/AeUIzEe8wGkOMEdOh0xGVdBGQUodpG3wnsVibEQwcSt+vAX8WILyZfxZ69brGtNLhITwN8lxbQbZTxVlwo63ysbAV81d54lCvA3DE+WoG3B8bl+9BfX5P4itsUu0JjNIHwcV6osDLxA3dmIlfa8IW1yXNV4LGOiYdcc0RdHXxJw2sSX7F6US8fp01EOTDoYFUic09UND3+g7FqD17BgmeHCfFqi9/Oj93LNvc+r3FpDfA3J16bOGnwIAKbitozY8d2+NviSVG/d0yH0xxQ0aIXS4CKpmsHn+gyvUZlg6cd1cvZ6wID+drEhzlYs7hhBbF3PZjCM9NDsYGKbFFN4WxVGeVt2ArPzb9aa/Xg4Pourrk1btyxOZoHc7xJCO3HF5zpme+0UVZhTzW4ZKBWL/K3UvKVFpdfSYsWoKvmbiYwumRAJxeI3JyBskEF9kdWt2jQFw+Nfs3F9AetGoXAW1tUE09uvmiFUaLttFYRD+LCc2t1V8sUSghlDUNR6Fs9TWS2arNfXhWQZXdqNK11VJYUbeac/IyRcp1BFtFP0g82e/5RqfY1Ruxtl4bTKw6aVIViwCWv9zMtZA6rRUZR87Vbd7tMrSL3r5aSzaxX3YbW6fQymUrH6drVWO/dGZYVKqpX+w75lorTded5bb9ueeL+buW7TiXT6zj9l/j9hSX+ypiUJ0l82ZLEl60X+FWD9dfuw4+lZxNfW3t87T78WHoe8dTaTjp2yv4/XM8gnlrbXr+9ee0O/HCalzjFnX789NrN/wE1D3Eyl+xc355I3HMpJvEUpX2X/ngsd4TzSpw4hb2dur49lbSfJRHihDWBnbxOf7iRG5NnK5z4kHXq7v3tRwn7hQQTTw1R76xfe6zlNPKCChD3QFPSybvr9O3Hk2O5HXl5pb1EFYKZcF5bv7t+/+v9xxNp1QsUfYvq+/Sv9x9OCWcJWkpKSkpKSkpKSkpKSkpKSkpKSkpKSkpKSkpKSkpKaun6PzZcyS0DtXJWAAAAAElFTkSuQmCC\" /></p>\n",
    "\n",
    "## 1. Scala's real-world project repository data\n",
    "<p>With almost 30k commits and a history spanning over ten years, Scala is a mature programming language. It is a general-purpose programming language that has recently become another prominent language for data scientists.</p>\n",
    "<p>Scala is also an open source project. Open source projects have the advantage that their entire development histories -- who made changes, what was changed, code reviews, etc. -- are publicly available. </p>\n",
    "<p>We're going to read in, clean up, and visualize the real world project repository of Scala that spans data from a version control system (Git) as well as a project hosting site (GitHub). We will find out who has had the most influence on its development and who are the experts.</p>\n",
    "<p>The dataset we will use, which has been previously mined and extracted from GitHub, is comprised of three files:</p>\n",
    "<ol>\n",
    "<li><code>pulls_2011-2013.csv</code> contains the basic information about the pull requests, and spans from the end of 2011 up to (but not including) 2014.</li>\n",
    "<li><code>pulls_2014-2018.csv</code> contains identical information, and spans from 2014 up to 2018.</li>\n",
    "<li><code>pull_files.csv</code> contains the files that were modified by each pull request.</li>\n",
    "</ol>"
   ]
  },
  {
   "cell_type": "code",
   "execution_count": 1,
   "id": "1df411fc",
   "metadata": {
    "collapsed": true,
    "dc": {
     "key": "5"
    },
    "jupyter": {
     "outputs_hidden": true
    },
    "tags": [
     "sample_code"
    ]
   },
   "outputs": [],
   "source": [
    "# Importing pandas.\n",
    "import pandas as pd\n",
    "\n",
    "# Loading in the data\n",
    "pulls_one = pd.read_csv('datasets/pulls_2011-2013.csv')\n",
    "pulls_two = pd.read_csv('datasets/pulls_2014-2018.csv')\n",
    "pull_files = pd.read_csv('datasets/pull_files.csv') "
   ]
  },
  {
   "cell_type": "markdown",
   "id": "4c6e213e",
   "metadata": {
    "dc": {
     "key": "12"
    },
    "deletable": false,
    "editable": false,
    "run_control": {
     "frozen": true
    },
    "tags": [
     "context"
    ]
   },
   "source": [
    "## 2. Preparing and cleaning the data\n",
    "<p>First, we will need to combine the data from the two separate pull DataFrames. </p>\n",
    "<p>Next, the raw data extracted from GitHub contains dates in the ISO8601 format. However, <code>pandas</code> imports them as regular strings. To make our analysis easier, we need to convert the strings into Python's <code>DateTime</code> objects. <code>DateTime</code> objects have the important property that they can be compared and sorted.</p>\n",
    "<p>The pull request times are all in UTC (also known as Coordinated Universal Time). The commit times, however, are in the local time of the author with time zone information (number of hours difference from UTC). To make comparisons easy, we should convert all times to UTC.</p>"
   ]
  },
  {
   "cell_type": "code",
   "execution_count": 2,
   "id": "ccdd8ba8",
   "metadata": {
    "collapsed": true,
    "dc": {
     "key": "12"
    },
    "jupyter": {
     "outputs_hidden": true
    },
    "tags": [
     "sample_code"
    ]
   },
   "outputs": [],
   "source": [
    "# Append pulls_one to pulls_two\n",
    "pulls = pulls_one.append(pulls_two, ignore_index=True)\n",
    "\n",
    "# Convert the date for the pulls object\n",
    "pulls['date'] = pd.to_datetime(pulls['date'], utc=True)"
   ]
  },
  {
   "cell_type": "markdown",
   "id": "5fb1f932",
   "metadata": {
    "dc": {
     "key": "19"
    },
    "deletable": false,
    "editable": false,
    "run_control": {
     "frozen": true
    },
    "tags": [
     "context"
    ]
   },
   "source": [
    "## 3. Merging the DataFrames\n",
    "<p>The data extracted comes in two separate files. Merging the two DataFrames will make it easier for us to analyze the data in the future tasks.</p>"
   ]
  },
  {
   "cell_type": "code",
   "execution_count": 3,
   "id": "106a48e4",
   "metadata": {
    "collapsed": true,
    "dc": {
     "key": "19"
    },
    "jupyter": {
     "outputs_hidden": true
    },
    "tags": [
     "sample_code"
    ]
   },
   "outputs": [],
   "source": [
    "# Merge the two DataFrames\n",
    "data = pulls.merge(pull_files, on='pid')\n",
    "# print(data.head())"
   ]
  },
  {
   "cell_type": "markdown",
   "id": "a3c507e9",
   "metadata": {
    "dc": {
     "key": "26"
    },
    "deletable": false,
    "editable": false,
    "run_control": {
     "frozen": true
    },
    "tags": [
     "context"
    ]
   },
   "source": [
    "## 4. Is the project still actively maintained?\n",
    "<p>The activity in an open source project is not very consistent. Some projects might be active for many years after the initial release, while others can slowly taper out into oblivion. Before committing to contributing to a project, it is important to understand the state of the project. Is development going steadily, or is there a drop? Has the project been abandoned altogether?</p>\n",
    "<p>The data used in this project was collected in January of 2018. We are interested in the evolution of the number of contributions up to that date.</p>\n",
    "<p>For Scala, we will do this by plotting a chart of the project's activity. We will calculate the number of pull requests submitted each (calendar) month during the project's lifetime. We will then plot these numbers to see the trend of contributions.</p>"
   ]
  },
  {
   "cell_type": "code",
   "execution_count": 4,
   "id": "b1d545e0",
   "metadata": {
    "dc": {
     "key": "26"
    },
    "tags": [
     "sample_code"
    ]
   },
   "outputs": [
    {
     "data": {
      "text/plain": [
       "<AxesSubplot:xlabel='month,year'>"
      ]
     },
     "execution_count": 4,
     "metadata": {},
     "output_type": "execute_result"
    },
    {
     "data": {
      "image/png": "[encoded data removed]",
      "text/plain": [
       "<Figure size 864x288 with 1 Axes>"
      ]
     },
     "metadata": {
      "needs_background": "light"
     },
     "output_type": "display_data"
    }
   ],
   "source": [
    "%matplotlib inline\n",
    "\n",
    "# Create a column that will store the month\n",
    "data['month'] = data['date'].dt.month\n",
    "\n",
    "# Create a column that will store the year\n",
    "data['year'] = data['date'].dt.year\n",
    "\n",
    "# Group by the month and year and count the pull requests\n",
    "counts = data.groupby(['month','year']).agg({'pid':'count'})\n",
    "\n",
    "# Plot the results\n",
    "counts.plot(kind='bar', figsize = (12,4))"
   ]
  },
  {
   "cell_type": "markdown",
   "id": "2f5c5e3f",
   "metadata": {
    "dc": {
     "key": "33"
    },
    "deletable": false,
    "editable": false,
    "run_control": {
     "frozen": true
    },
    "tags": [
     "context"
    ]
   },
   "source": [
    "## 5. Is there camaraderie in the project?\n",
    "<p>The organizational structure varies from one project to another, and it can influence your success as a contributor. A project that has a very small community might not be the best one to start working on. The small community might indicate a high barrier of entry. This can be caused by several factors, including a community that is reluctant to accept pull requests from \"outsiders,\" that the code base is hard to work with, etc. However, a large community can serve as an indicator that the project is regularly accepting pull requests from new contributors. Such a project would be a good place to start.</p>\n",
    "<p>In order to evaluate the dynamics of the community, we will plot a histogram of the number of pull requests submitted by each user. A distribution that shows that there are few people that only contribute a small number of pull requests can be used as in indicator that the project is not welcoming of new contributors. </p>"
   ]
  },
  {
   "cell_type": "code",
   "execution_count": 5,
   "id": "6ec227d0",
   "metadata": {
    "dc": {
     "key": "33"
    },
    "tags": [
     "sample_code"
    ]
   },
   "outputs": [
    {
     "data": {
      "text/plain": [
       "array([[<AxesSubplot:title={'center':'pid'}>]], dtype=object)"
      ]
     },
     "execution_count": 5,
     "metadata": {},
     "output_type": "execute_result"
    },
    {
     "data": {
      "image/png": "[encoded data removed]",
      "text/plain": [
       "<Figure size 432x288 with 1 Axes>"
      ]
     },
     "metadata": {
      "needs_background": "light"
     },
     "output_type": "display_data"
    }
   ],
   "source": [
    "# Required for matplotlib\n",
    "%matplotlib inline\n",
    "\n",
    "# Group by the submitter\n",
    "by_user = data.groupby('user').agg({'pid':'count'})\n",
    "\n",
    "# Plot the histogram\n",
    "by_user.hist()"
   ]
  },
  {
   "cell_type": "markdown",
   "id": "1b16363d",
   "metadata": {
    "dc": {
     "key": "40"
    },
    "deletable": false,
    "editable": false,
    "run_control": {
     "frozen": true
    },
    "tags": [
     "context"
    ]
   },
   "source": [
    "## 6. What files were changed in the last ten pull requests?\n",
    "<p>Choosing the right place to make a contribution is as important as choosing the project to contribute to. Some parts of the code might be stable, some might be dead. Contributing there might not have the most impact. Therefore it is important to understand the parts of the system that have been recently changed. This allows us to pinpoint the \"hot\" areas of the code where most of the activity is happening. Focusing on those parts might not the most effective use of our times.</p>"
   ]
  },
  {
   "cell_type": "code",
   "execution_count": 6,
   "id": "e387430a",
   "metadata": {
    "dc": {
     "key": "40"
    },
    "tags": [
     "sample_code"
    ]
   },
   "outputs": [
    {
     "data": {
      "text/plain": [
       "{'LICENSE',\n",
       " 'doc/LICENSE.md',\n",
       " 'doc/License.rtf',\n",
       " 'project/VersionUtil.scala',\n",
       " 'src/compiler/scala/reflect/reify/phases/Calculate.scala',\n",
       " 'src/compiler/scala/tools/nsc/backend/jvm/BCodeHelpers.scala',\n",
       " 'src/compiler/scala/tools/nsc/backend/jvm/PostProcessor.scala',\n",
       " 'src/compiler/scala/tools/nsc/backend/jvm/analysis/BackendUtils.scala',\n",
       " 'src/compiler/scala/tools/nsc/profile/AsyncHelper.scala',\n",
       " 'src/compiler/scala/tools/nsc/profile/Profiler.scala',\n",
       " 'src/compiler/scala/tools/nsc/symtab/classfile/ClassfileParser.scala',\n",
       " 'src/compiler/scala/tools/nsc/typechecker/Contexts.scala',\n",
       " 'src/library/scala/Predef.scala',\n",
       " 'src/library/scala/concurrent/Lock.scala',\n",
       " 'src/library/scala/util/Properties.scala',\n",
       " 'src/reflect/scala/reflect/internal/pickling/ByteCodecs.scala',\n",
       " 'src/reflect/scala/reflect/internal/tpe/GlbLubs.scala',\n",
       " 'src/scaladoc/scala/tools/nsc/doc/html/page/Entity.scala',\n",
       " 'src/scalap/decoder.properties',\n",
       " 'test/files/neg/leibniz-liskov.check',\n",
       " 'test/files/neg/leibniz-liskov.scala',\n",
       " 'test/files/pos/leibniz-liskov.scala',\n",
       " 'test/files/pos/leibniz_liskov.scala',\n",
       " 'test/files/pos/parallel-classloader.scala',\n",
       " 'test/files/pos/t10568/Converter.java',\n",
       " 'test/files/pos/t10568/Impl.scala',\n",
       " 'test/files/pos/t10686.scala',\n",
       " 'test/files/pos/t5638/Among.java',\n",
       " 'test/files/pos/t5638/Usage.scala',\n",
       " 'test/files/pos/t9291.scala',\n",
       " 'test/files/run/t8348.check',\n",
       " 'test/files/run/t8348/TableColumn.java',\n",
       " 'test/files/run/t8348/TableColumnImpl.java',\n",
       " 'test/files/run/t8348/Test.scala'}"
      ]
     },
     "execution_count": 6,
     "metadata": {},
     "output_type": "execute_result"
    }
   ],
   "source": [
    "# Identify the last 10 pull requests\n",
    "last_10 = pulls.nlargest(10, 'pid')\n",
    "\n",
    "# Join the two data sets\n",
    "joined_pr = last_10.merge(pull_files, on = 'pid')\n",
    "\n",
    "# Identify the unique files\n",
    "files = set(joined_pr['file'])\n",
    "\n",
    "# Print the results\n",
    "files"
   ]
  },
  {
   "cell_type": "markdown",
   "id": "9fe33a01",
   "metadata": {},
   "source": [
    "# 7. Who made the most pull requests to a given file?\n",
    "<p>When contributing to a project, we might need some guidance. We might find ourselves needing some information regarding the codebase. It is important direct any questions to the right person. Contributors to open source projects generally have other day jobs, so their time is limited. It is important to address our questions to the right people. One way to identify the right target for our inquiries is by using their contribution history.</p>\n",
    "<p>We identified <code>src/compiler/scala/reflect/reify/phases/Calculate.scala</code> as being recently changed. We are interested in the top 3 developers who changed that file. Those developers are the ones most likely to have the best understanding of the code.</p>"
   ]
  },
  {
   "cell_type": "code",
   "execution_count": 7,
   "id": "a69b24e7",
   "metadata": {
    "dc": {
     "key": "47"
    },
    "tags": [
     "sample_code"
    ]
   },
   "outputs": [
    {
     "data": {
      "text/html": [
       "<div>\n",
       "<style scoped>\n",
       "    .dataframe tbody tr th:only-of-type {\n",
       "        vertical-align: middle;\n",
       "    }\n",
       "\n",
       "    .dataframe tbody tr th {\n",
       "        vertical-align: top;\n",
       "    }\n",
       "\n",
       "    .dataframe thead th {\n",
       "        text-align: right;\n",
       "    }\n",
       "</style>\n",
       "<table border=\"1\" class=\"dataframe\">\n",
       "  <thead>\n",
       "    <tr style=\"text-align: right;\">\n",
       "      <th></th>\n",
       "      <th>pid</th>\n",
       "      <th>date</th>\n",
       "      <th>file</th>\n",
       "      <th>month</th>\n",
       "      <th>year</th>\n",
       "    </tr>\n",
       "    <tr>\n",
       "      <th>user</th>\n",
       "      <th></th>\n",
       "      <th></th>\n",
       "      <th></th>\n",
       "      <th></th>\n",
       "      <th></th>\n",
       "    </tr>\n",
       "  </thead>\n",
       "  <tbody>\n",
       "    <tr>\n",
       "      <th>xeno-by</th>\n",
       "      <td>11</td>\n",
       "      <td>11</td>\n",
       "      <td>11</td>\n",
       "      <td>11</td>\n",
       "      <td>11</td>\n",
       "    </tr>\n",
       "    <tr>\n",
       "      <th>retronym</th>\n",
       "      <td>5</td>\n",
       "      <td>5</td>\n",
       "      <td>5</td>\n",
       "      <td>5</td>\n",
       "      <td>5</td>\n",
       "    </tr>\n",
       "    <tr>\n",
       "      <th>soc</th>\n",
       "      <td>4</td>\n",
       "      <td>4</td>\n",
       "      <td>4</td>\n",
       "      <td>4</td>\n",
       "      <td>4</td>\n",
       "    </tr>\n",
       "  </tbody>\n",
       "</table>\n",
       "</div>"
      ],
      "text/plain": [
       "          pid  date  file  month  year\n",
       "user                                  \n",
       "xeno-by    11    11    11     11    11\n",
       "retronym    5     5     5      5     5\n",
       "soc         4     4     4      4     4"
      ]
     },
     "execution_count": 7,
     "metadata": {},
     "output_type": "execute_result"
    }
   ],
   "source": [
    "# This is the file we are interested in:\n",
    "file = 'src/compiler/scala/reflect/reify/phases/Calculate.scala'\n",
    "\n",
    "# Identify the commits that changed the file\n",
    "file_pr =  data[data['file'] == file]\n",
    "\n",
    "# Count the number of changes made by each developer\n",
    "author_counts = file_pr.groupby('user').agg('count') \n",
    "\n",
    "# Print the top 3 developers\n",
    "author_counts.nlargest(3, 'file')\n"
   ]
  },
  {
   "cell_type": "markdown",
   "id": "89cc3c5d",
   "metadata": {
    "dc": {
     "key": "54"
    },
    "deletable": false,
    "editable": false,
    "run_control": {
     "frozen": true
    },
    "tags": [
     "context"
    ]
   },
   "source": [
    "## 8. Who made the last ten pull requests on a given file?\n",
    "<p>Open source projects suffer from fluctuating membership. This makes the problem of finding the right person more challenging: the person has to be knowledgeable <em>and</em> still be involved in the project. A person that contributed a lot in the past might no longer be available (or willing) to help. To get a better understanding, we need to investigate the more recent history of that particular part of the system. </p>\n",
    "<p>Like in the previous task, we will look at the history of  <code>src/compiler/scala/reflect/reify/phases/Calculate.scala</code>.</p>"
   ]
  },
  {
   "cell_type": "code",
   "execution_count": 8,
   "id": "06adb826",
   "metadata": {
    "dc": {
     "key": "54"
    },
    "tags": [
     "sample_code"
    ]
   },
   "outputs": [
    {
     "data": {
      "text/plain": [
       "{'bjornregnell', 'retronym', 'soc', 'starblood', 'xeno-by', 'zuvizudar'}"
      ]
     },
     "execution_count": 8,
     "metadata": {},
     "output_type": "execute_result"
    }
   ],
   "source": [
    "file = 'src/compiler/scala/reflect/reify/phases/Calculate.scala'\n",
    "\n",
    "# Select the pull requests that changed the target file\n",
    "file_pr = pull_files[pull_files['file']==file]\n",
    "\n",
    "# Merge the obtained results with the pulls DataFrame\n",
    "joined_pr = file_pr.merge(pulls, on='pid')\n",
    "\n",
    "# Find the users of the last 10 most recent pull requests\n",
    "users_last_10 = set(joined_pr.nlargest(10, 'date')['user'])\n",
    "\n",
    "# Printing the results\n",
    "users_last_10"
   ]
  },
  {
   "cell_type": "markdown",
   "id": "3ee1b892",
   "metadata": {
    "dc": {
     "key": "61"
    },
    "deletable": false,
    "editable": false,
    "run_control": {
     "frozen": true
    },
    "tags": [
     "context"
    ]
   },
   "source": [
    "## 9. The pull requests of two special developers\n",
    "<p>Now that we have identified two potential contacts in the projects, we need to find the person who was most involved in the project in recent times. That person is most likely to answer our questions. For each calendar year, we are interested in understanding the number of pull requests the authors submitted. This will give us a high-level image of their contribution trend to the project.</p>"
   ]
  },
  {
   "cell_type": "code",
   "execution_count": 9,
   "id": "6135203f",
   "metadata": {
    "dc": {
     "key": "61"
    },
    "tags": [
     "sample_code"
    ]
   },
   "outputs": [
    {
     "data": {
      "text/plain": [
       "<AxesSubplot:xlabel='date'>"
      ]
     },
     "execution_count": 9,
     "metadata": {},
     "output_type": "execute_result"
    },
    {
     "data": {
      "image/png": "[encoded data removed]",
      "text/plain": [
       "<Figure size 432x288 with 1 Axes>"
      ]
     },
     "metadata": {
      "needs_background": "light"
     },
     "output_type": "display_data"
    }
   ],
   "source": [
    "%matplotlib inline\n",
    "\n",
    "# The developers we are interested in\n",
    "authors = ['xeno-by', 'soc']\n",
    "\n",
    "# Get all the developers' pull requests\n",
    "by_author = pulls[pulls['user'].isin(authors)]\n",
    "# Count the number of pull requests submitted each year\n",
    "counts = by_author.groupby([by_author['user'], by_author['date'].dt.year]).agg({'pid': 'count'}).reset_index()\n",
    "\n",
    "# Convert the table to a wide format\n",
    "counts_wide = counts.pivot_table(index='date', columns='user', values='pid', fill_value=0)\n",
    "\n",
    "# Plot the results\n",
    "counts_wide.plot(kind='bar')"
   ]
  },
  {
   "cell_type": "markdown",
   "id": "2562ab20",
   "metadata": {
    "dc": {
     "key": "68"
    },
    "deletable": false,
    "editable": false,
    "run_control": {
     "frozen": true
    },
    "tags": [
     "context"
    ]
   },
   "source": [
    "## 10. Visualizing the contributions of each developer\n",
    "<p>As mentioned before, it is important to make a distinction between the global expertise and contribution levels and the contribution levels at a more granular level (file, submodule, etc.) In our case, we want to see which of our two developers of interest have the most experience with the code in a given file. We will measure experience by the number of pull requests submitted that affect that file and how recent those pull requests were submitted.</p>"
   ]
  },
  {
   "cell_type": "code",
   "execution_count": 10,
   "id": "9089ef6e",
   "metadata": {
    "dc": {
     "key": "68"
    },
    "tags": [
     "sample_code"
    ]
   },
   "outputs": [
    {
     "data": {
      "text/plain": [
       "<AxesSubplot:xlabel='date'>"
      ]
     },
     "execution_count": 10,
     "metadata": {},
     "output_type": "execute_result"
    },
    {
     "data": {
      "image/png": "[encoded data removed]",
      "text/plain": [
       "<Figure size 432x288 with 1 Axes>"
      ]
     },
     "metadata": {
      "needs_background": "light"
     },
     "output_type": "display_data"
    }
   ],
   "source": [
    "authors = ['xeno-by', 'soc']\n",
    "file = 'src/compiler/scala/reflect/reify/phases/Calculate.scala'\n",
    "\n",
    "# Select the pull requests submitted by the authors, from the `data` DataFrame\n",
    "by_author = data[data['user'].isin(authors)]\n",
    "\n",
    "# Select the pull requests that affect the file\n",
    "by_file = by_author[by_author['file'] == file]\n",
    "\n",
    "# Group and count the number of PRs done by each user each year\n",
    "grouped = by_file.groupby(['user', by_file['date'].dt.year]).count()['pid'].reset_index()\n",
    "\n",
    "# Transform the data into a wide format\n",
    "by_file_wide = grouped.pivot_table(index='date', columns='user', values='pid', fill_value=0)\n",
    "\n",
    "# Plot the results\n",
    "by_file_wide.plot(kind='bar')"
   ]
  },
  {
   "cell_type": "code",
   "execution_count": null,
   "id": "40920ab2",
   "metadata": {},
   "outputs": [],
   "source": []
  }
 ],
 "metadata": {
  "kernelspec": {
   "display_name": "Python 3 (ipykernel)",
   "language": "python",
   "name": "python3"
  },
  "language_info": {
   "codemirror_mode": {
    "name": "ipython",
    "version": 3
   },
   "file_extension": ".py",
   "mimetype": "text/x-python",
   "name": "python",
   "nbconvert_exporter": "python",
   "pygments_lexer": "ipython3",
   "version": "3.7.11"
  }
 },
 "nbformat": 4,
 "nbformat_minor": 5
}
